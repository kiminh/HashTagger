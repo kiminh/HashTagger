{
 "cells": [
  {
   "cell_type": "code",
   "execution_count": 1,
   "metadata": {
    "collapsed": false
   },
   "outputs": [],
   "source": [
    "%matplotlib inline"
   ]
  },
  {
   "cell_type": "code",
   "execution_count": 2,
   "metadata": {
    "collapsed": true
   },
   "outputs": [],
   "source": [
    "import matplotlib\n",
    "import os\n",
    "import glob\n",
    "import csv"
   ]
  },
  {
   "cell_type": "code",
   "execution_count": 4,
   "metadata": {
    "collapsed": false
   },
   "outputs": [
    {
     "name": "stdout",
     "output_type": "stream",
     "text": [
      "../../..\\39150.csv\n",
      "../../..\\39151.csv\n",
      "../../..\\39154.csv\n",
      "../../..\\39155.csv\n",
      "../../..\\39156.csv\n",
      "../../..\\39157.csv\n",
      "../../..\\39158.csv\n",
      "../../..\\39159.csv\n",
      "../../..\\39160.csv\n",
      "../../..\\39161.csv\n",
      "../../..\\39162.csv\n",
      "../../..\\39163.csv\n",
      "../../..\\39164.csv\n",
      "../../..\\39165.csv\n",
      "../../..\\39166.csv\n",
      "../../..\\39167.csv\n",
      "../../..\\39168.csv\n",
      "../../..\\39169.csv\n",
      "../../..\\39170.csv\n",
      "../../..\\39171.csv\n",
      "../../..\\39172.csv\n",
      "../../..\\39173.csv\n",
      "../../..\\39175.csv\n",
      "../../..\\39176.csv\n",
      "../../..\\39177.csv\n",
      "../../..\\39178.csv\n",
      "../../..\\39179.csv\n",
      "../../..\\39180.csv\n",
      "../../..\\39181.csv\n",
      "../../..\\39182.csv\n",
      "../../..\\39183.csv\n",
      "../../..\\39184.csv\n",
      "../../..\\39185.csv\n",
      "../../..\\39186.csv\n",
      "../../..\\39187.csv\n",
      "../../..\\39188.csv\n",
      "../../..\\39189.csv\n",
      "../../..\\39190.csv\n",
      "../../..\\39191.csv\n",
      "../../..\\39192.csv\n",
      "../../..\\39193.csv\n",
      "../../..\\39194.csv\n",
      "../../..\\39195.csv\n",
      "../../..\\39196.csv\n",
      "../../..\\39197.csv\n",
      "../../..\\39198.csv\n",
      "../../..\\39199.csv\n",
      "../../..\\39200.csv\n",
      "../../..\\39201.csv\n",
      "../../..\\39202.csv\n",
      "../../..\\39203.csv\n",
      "../../..\\39204.csv\n",
      "../../..\\39205.csv\n",
      "../../..\\39206.csv\n",
      "../../..\\39207.csv\n",
      "../../..\\39208.csv\n",
      "../../..\\39209.csv\n",
      "../../..\\39210.csv\n",
      "../../..\\39211.csv\n",
      "../../..\\39212.csv\n",
      "../../..\\39213.csv\n",
      "../../..\\39214.csv\n",
      "../../..\\39215.csv\n",
      "../../..\\39216.csv\n",
      "../../..\\39217.csv\n",
      "../../..\\39218.csv\n",
      "../../..\\39219.csv\n",
      "../../..\\39220.csv\n",
      "../../..\\39221.csv\n",
      "../../..\\39222.csv\n",
      "../../..\\39223.csv\n",
      "../../..\\39224.csv\n",
      "../../..\\39225.csv\n",
      "../../..\\39226.csv\n",
      "../../..\\39227.csv\n",
      "../../..\\39228.csv\n",
      "../../..\\39229.csv\n",
      "../../..\\39230.csv\n",
      "../../..\\39231.csv\n",
      "../../..\\39232.csv\n",
      "../../..\\39233.csv\n",
      "../../..\\39234.csv\n",
      "../../..\\39235.csv\n",
      "../../..\\39236.csv\n",
      "../../..\\39237.csv\n",
      "../../..\\39238.csv\n",
      "../../..\\39239.csv\n",
      "../../..\\39240.csv\n",
      "../../..\\39241.csv\n",
      "../../..\\39242.csv\n",
      "../../..\\39243.csv\n",
      "../../..\\39244.csv\n",
      "../../..\\39245.csv\n",
      "../../..\\39246.csv\n",
      "../../..\\39247.csv\n",
      "../../..\\39248.csv\n",
      "../../..\\39249.csv\n",
      "../../..\\39250.csv\n",
      "../../..\\39251.csv\n",
      "../../..\\39252.csv\n",
      "../../..\\39253.csv\n",
      "../../..\\39254.csv\n"
     ]
    }
   ],
   "source": [
    "num_cols = 9\n",
    "data = list()\n",
    "for filename in glob.glob(\"../../../*.csv\"):\n",
    "    print filename\n",
    "    with open(filename) as f:\n",
    "        csv_file = csv.reader(f)\n",
    "        for row in csv_file:\n",
    "            row2 = [float(r) for r in row[1:]]\n",
    "            data.append(row2[1:])\n",
    "            \n",
    "data = zip(*data)\n",
    "data = [list(d) for d in data]"
   ]
  },
  {
   "cell_type": "code",
   "execution_count": 5,
   "metadata": {
    "collapsed": false
   },
   "outputs": [
    {
     "data": {
      "image/png": "[encoded data removed]",
      "text/plain": [
       "<matplotlib.figure.Figure at 0x5d0e690>"
      ]
     },
     "metadata": {},
     "output_type": "display_data"
    }
   ],
   "source": [
    "import matplotlib.pyplot as plt\n",
    "d = data[3]\n",
    "plt.hist(d, bins=50, normed=False, range=(min(d), max(d)))\n",
    "plt.show()"
   ]
  },
  {
   "cell_type": "code",
   "execution_count": null,
   "metadata": {
    "collapsed": true
   },
   "outputs": [],
   "source": []
  }
 ],
 "metadata": {
  "kernelspec": {
   "display_name": "Python 2",
   "language": "python",
   "name": "python2"
  },
  "language_info": {
   "codemirror_mode": {
    "name": "ipython",
    "version": 2
   },
   "file_extension": ".py",
   "mimetype": "text/x-python",
   "name": "python",
   "nbconvert_exporter": "python",
   "pygments_lexer": "ipython2",
   "version": "2.7.12"
  }
 },
 "nbformat": 4,
 "nbformat_minor": 1
}
